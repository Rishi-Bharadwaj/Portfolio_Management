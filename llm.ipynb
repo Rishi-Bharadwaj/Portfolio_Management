{
 "cells": [
  {
   "cell_type": "code",
   "execution_count": 27,
   "id": "05acf551",
   "metadata": {},
   "outputs": [],
   "source": [
    "import pandas as pd\n",
    "pd.set_option(\"display.max_rows\", None)\n",
    "pd.set_option(\"display.max_columns\", None)\n",
    "pd.set_option(\"display.max_colwidth\", None)\n"
   ]
  },
  {
   "cell_type": "code",
   "execution_count": null,
   "id": "9bbba9e6",
   "metadata": {},
   "outputs": [
    {
     "name": "stderr",
     "output_type": "stream",
     "text": [
      "Loading checkpoint shards: 100%|██████████| 4/4 [00:01<00:00,  2.51it/s]\n"
     ]
    },
    {
     "name": "stdout",
     "output_type": "stream",
     "text": [
      "Given the news summary: 'The Federal Reserve is unlikely to cut rates in 2024.', what should an investor do? (Fed, News, Cuts, Rates, 2024)\n",
      "Given the news summary: 'The Federal Reserve is unlikely to cut rates in 2024.', what should an investor do?\n",
      "A. Sell stocks\n",
      "B. Buy bonds\n",
      "C. Buy gold\n",
      "D. Buy stocks\n",
      "Answer: B\n"
     ]
    }
   ],
   "source": [
    "from transformers import AutoTokenizer, AutoModelForCausalLM\n",
    "\n",
    "model_id = \"tarun7r/Finance-Llama-8B\"\n",
    "\n",
    "tokenizer = AutoTokenizer.from_pretrained(model_id, trust_remote_code=True)\n",
    "model = AutoModelForCausalLM.from_pretrained(\n",
    "    model_id,\n",
    "    device_map=\"auto\",             # auto-distributes across GPUs\n",
    "    torch_dtype=\"auto\",            # picks bf16 or fp16 depending on availability\n",
    ")\n"
   ]
  },
  {
   "cell_type": "code",
   "execution_count": 11,
   "id": "424cd10a",
   "metadata": {},
   "outputs": [
    {
     "name": "stdout",
     "output_type": "stream",
     "text": [
      "You are a financial analyst deciding whether to buy or sell a stock based on headlines. Consider market sentiment, historical impact of product launches, and valuation.Headline: Apple announces a new product.Should you buy or sell Apple stock? If you would buy it, would you buy at the current price or wait for a lower one? What is the minimum price you'd consider buying at, and why? If you'd sell it, would you sell at the current price, or wait for a higher one? What is the maximum price you'd sell at, and why?\n",
      "Given the headline, I would consider buying Apple stock. Apple's new product announcements have historically led to increases in its stock price. For example, in 2019, Apple launched the iPhone 11, which led to an increase of 7% in its stock price. This historical trend suggests that Apple's new product announcements may lead to a positive impact on its stock price.\n",
      "In addition, Apple's stock is currently undervalued compared to its historical average. Apple's current price-to-earnings ratio is 20.8, which is lower than its 10-year average of 24.7. This suggests that Apple's stock is currently trading at a discount, which may provide an opportunity for investors to buy at a lower price.\n",
      "Given the historical trend and the current valuation of Apple's stock, I would consider buying Apple stock at the current price. However, if the stock price does not increase in the near future, I would wait for a lower price before buying. The minimum price I would consider buying at is $100, as this would be a significant discount from Apple's current stock price of $135. This price point would also be lower than Apple's historical average stock price of $150.\n",
      "If I were to sell Apple stock, I would only do so at a price higher than its current stock price of $135. The maximum price I would sell at is $150, which is Apple's historical average stock price. This price point would allow me to sell at a profit and still maintain a lower valuation compared to its historical average. If Apple's stock price continues to increase in the near future, I would consider selling at a higher price, but not higher than $150.\n",
      "In conclusion, given the headline, I would buy Apple stock at the current price or wait for a lower price, with a minimum price of $100. I would only sell Apple stock if the price is higher than its current stock price of $135, with a maximum price of $150.\n"
     ]
    }
   ],
   "source": [
    "prompt = \"You are a financial analyst deciding whether to buy or sell a stock based on headlines. Consider market sentiment, historical impact of product launches, and valuation.Headline: Apple announces a new product.Should you buy or sell Apple stock? If you would buy it, would you buy at the current price or wait for a lower one? What is the minimum price you'd consider buying at, and why?\"\n",
    "inputs = tokenizer(prompt, return_tensors=\"pt\").to(model.device)\n",
    "outputs = model.generate(**inputs, max_new_tokens=500,temperature=0.8,)\n",
    "print(tokenizer.decode(outputs[0], skip_special_tokens=True))"
   ]
  },
  {
   "cell_type": "code",
   "execution_count": 14,
   "id": "b2b38eb4",
   "metadata": {},
   "outputs": [],
   "source": [
    "import yfinance as yf\n",
    "\n",
    "ticker = yf.Ticker(\"NVDA\")\n",
    "\n",
    "income_stmt = ticker.financials\n",
    "balance_sheet = ticker.balance_sheet\n",
    "cash_flow = ticker.cashflow\n",
    "info = ticker.info"
   ]
  },
  {
   "cell_type": "code",
   "execution_count": null,
   "id": "4cb8eb80",
   "metadata": {},
   "outputs": [],
   "source": [
    "year=income_stmt.columns[0]\n",
    "EPS=income_stmt[year][\"Diluted EPS\"]\n",
    "Net_Income=income_stmt[year][\"Net Income\"]\n",
    "Gross_Profit=income_stmt[year][\"Gross Profit\"]\n",
    "Revenue=income_stmt[year][\"Total Revenue\"]\n",
    "Total_Assets=balance_sheet[year][\"Total Assets\"]\n",
    "Total_Liabilities=balance_sheet[year][\"Total Liabilities Net Minority Interest\"]\n",
    "Shareholders_Equity=balance_sheet[year][\"Stockholders Equity\"]\n",
    "Free_Cash_Flow=cash_flow[year][\"Free Cash Flow\"]\n",
    "Investing_Cash_Flow=cash_flow[year][\"Investing Cash Flow\"]\n",
    "Financing_Cash_Flow=cash_flow[year][\"Financing Cash Flow\"]\n",
    "Operating_Cash_Flow=cash_flow[year][\"Operating Cash Flow\"]\n",
    "P_E=ticker.info['trailingPE']\n",
    "ROA=ticker.info['returnOnAssets']\n",
    "ROE=ticker.info['returnOnEquity']"
   ]
  },
  {
   "cell_type": "code",
   "execution_count": 41,
   "id": "004c73fa",
   "metadata": {},
   "outputs": [],
   "source": [
    "def get_financial_info(ticker):\n",
    "    ticker = yf.Ticker(ticker)\n",
    "    income_stmt = ticker.financials\n",
    "    balance_sheet = ticker.balance_sheet\n",
    "    cash_flow = ticker.cashflow\n",
    "    info = ticker.info\n",
    "    year=income_stmt.columns[0]\n",
    "    EPS=income_stmt[year][\"Diluted EPS\"]\n",
    "    Net_Income=income_stmt[year][\"Net Income\"]\n",
    "    Gross_Profit=income_stmt[year][\"Gross Profit\"]\n",
    "    Revenue=income_stmt[year][\"Total Revenue\"]\n",
    "    Total_Assets=balance_sheet[year][\"Total Assets\"]\n",
    "    Total_Liabilities=balance_sheet[year][\"Total Liabilities Net Minority Interest\"]\n",
    "    Shareholders_Equity=balance_sheet[year][\"Stockholders Equity\"]\n",
    "    Free_Cash_Flow=cash_flow[year][\"Free Cash Flow\"]\n",
    "    Investing_Cash_Flow=cash_flow[year][\"Investing Cash Flow\"]\n",
    "    Financing_Cash_Flow=cash_flow[year][\"Financing Cash Flow\"]\n",
    "    Operating_Cash_Flow=cash_flow[year][\"Operating Cash Flow\"]\n",
    "    P_E=ticker.info['trailingPE']\n",
    "    ROA=ticker.info['returnOnAssets']\n",
    "    ROE=ticker.info['returnOnEquity']\n",
    "\n",
    "    prompt = f\"\"\"\n",
    "        You are a fundamental investment analyst. Analyze the financial performance of {ticker} and give a recommendation: Strong Buy, Buy, Hold, or Sell. Justify your decision in 4–6 bullet points using financial reasoning.\n",
    "\n",
    "        Financials for {ticker}:\n",
    "\n",
    "        Income Statement:\n",
    "        - Revenue: ${Revenue:,.0f}\n",
    "        - Gross Profit: ${Gross_Profit:,.0f}\n",
    "        - Net Income: ${Net_Income:,.0f}\n",
    "        - EPS (Diluted): {EPS:.2f}\n",
    "\n",
    "        Balance Sheet:\n",
    "        - Total Assets: ${Total_Assets:,.0f}\n",
    "        - Total Liabilities: ${Total_Liabilities:,.0f}\n",
    "        - Shareholders' Equity: ${Shareholders_Equity:,.0f}\n",
    "\n",
    "        Cash Flow:\n",
    "        - Operating Cash Flow: ${Operating_Cash_Flow:,.0f}\n",
    "        - Free Cash Flow: ${Free_Cash_Flow:,.0f}\n",
    "        - Investing Cash Flow: ${Investing_Cash_Flow:,.0f}\n",
    "        - Financing Cash Flow: ${Financing_Cash_Flow:,.0f}\n",
    "\n",
    "        Valuation and Ratios:\n",
    "        - P/E Ratio: {P_E:.2f}\n",
    "        - ROA: {ROA:.2%}\n",
    "        - ROE: {ROE:.2%}\n",
    "\n",
    "        Based on this, what is your investment recommendation?\n",
    "        \"\"\"\n",
    "    return prompt"
   ]
  },
  {
   "cell_type": "code",
   "execution_count": 45,
   "id": "4d20afae",
   "metadata": {},
   "outputs": [
    {
     "data": {
      "text/plain": [
       "\"\\n        You are a fundamental investment analyst. Analyze the financial performance of yfinance.Ticker object <RTX> and give a recommendation: Strong Buy, Buy, Hold, or Sell. Justify your decision in 4–6 bullet points using financial reasoning.\\n\\n        Financials for yfinance.Ticker object <RTX>:\\n\\n        Income Statement:\\n        - Revenue: $80,738,000,000\\n        - Gross Profit: $15,410,000,000\\n        - Net Income: $4,774,000,000\\n        - EPS (Diluted): 3.55\\n\\n        Balance Sheet:\\n        - Total Assets: $162,861,000,000\\n        - Total Liabilities: $100,903,000,000\\n        - Shareholders' Equity: $60,156,000,000\\n\\n        Cash Flow:\\n        - Operating Cash Flow: $7,159,000,000\\n        - Free Cash Flow: $3,923,000,000\\n        - Investing Cash Flow: $-1,534,000,000\\n        - Financing Cash Flow: $-6,617,000,000\\n\\n        Valuation and Ratios:\\n        - P/E Ratio: 42.97\\n        - ROA: 3.47%\\n        - ROE: 7.80%\\n\\n        Based on this, what is your investment recommendation?\\n        \""
      ]
     },
     "execution_count": 45,
     "metadata": {},
     "output_type": "execute_result"
    }
   ],
   "source": [
    "x=get_financial_info(\"RTX\")\n",
    "x"
   ]
  }
 ],
 "metadata": {
  "kernelspec": {
   "display_name": "venv",
   "language": "python",
   "name": "python3"
  },
  "language_info": {
   "codemirror_mode": {
    "name": "ipython",
    "version": 3
   },
   "file_extension": ".py",
   "mimetype": "text/x-python",
   "name": "python",
   "nbconvert_exporter": "python",
   "pygments_lexer": "ipython3",
   "version": "3.12.3"
  }
 },
 "nbformat": 4,
 "nbformat_minor": 5
}
