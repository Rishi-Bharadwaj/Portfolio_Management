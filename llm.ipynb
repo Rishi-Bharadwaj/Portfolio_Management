{
 "cells": [
  {
   "cell_type": "code",
   "execution_count": 91,
   "id": "05acf551",
   "metadata": {},
   "outputs": [
    {
     "name": "stderr",
     "output_type": "stream",
     "text": [
      "Loading checkpoint shards: 100%|██████████| 4/4 [00:01<00:00,  2.49it/s]\n"
     ]
    }
   ],
   "source": [
    "import pandas as pd\n",
    "# pd.set_option(\"display.max_rows\", None)\n",
    "# pd.set_option(\"display.max_columns\", None)\n",
    "# pd.set_option(\"display.max_colwidth\", None)\n",
    "import yfinance as yf\n",
    "from transformers import AutoTokenizer, AutoModelForCausalLM,pipeline\n",
    "import torch\n",
    "model_id = \"tarun7r/Finance-Llama-8B\"\n",
    "\n",
    "tokenizer = AutoTokenizer.from_pretrained(model_id, trust_remote_code=True)\n",
    "model = AutoModelForCausalLM.from_pretrained(\n",
    "    model_id,\n",
    "    device_map=\"auto\",             # auto-distributes across GPUs\n",
    "    torch_dtype=\"auto\",            # picks bf16 or fp16 depending on availability\n",
    ")\n"
   ]
  },
  {
   "cell_type": "code",
   "execution_count": 92,
   "id": "004c73fa",
   "metadata": {},
   "outputs": [],
   "source": [
    "def get_financial_info(t):\n",
    "    ticker = yf.Ticker('t')\n",
    "    income_stmt = ticker.financials\n",
    "    balance_sheet = ticker.balance_sheet\n",
    "    cash_flow = ticker.cashflow\n",
    "    info = ticker.info\n",
    "    year=income_stmt.columns[0]\n",
    "    EPS=income_stmt[year][\"Diluted EPS\"]\n",
    "    Net_Income=income_stmt[year][\"Net Income\"]\n",
    "    Gross_Profit=income_stmt[year][\"Gross Profit\"]\n",
    "    Revenue=income_stmt[year][\"Total Revenue\"]\n",
    "    Total_Assets=balance_sheet[year][\"Total Assets\"]\n",
    "    Total_Liabilities=balance_sheet[year][\"Total Liabilities Net Minority Interest\"]\n",
    "    Shareholders_Equity=balance_sheet[year][\"Stockholders Equity\"]\n",
    "    Free_Cash_Flow=cash_flow[year][\"Free Cash Flow\"]\n",
    "    Investing_Cash_Flow=cash_flow[year][\"Investing Cash Flow\"]\n",
    "    Financing_Cash_Flow=cash_flow[year][\"Financing Cash Flow\"]\n",
    "    Operating_Cash_Flow=cash_flow[year][\"Operating Cash Flow\"]\n",
    "    P_E=ticker.info['trailingPE']\n",
    "    ROA=ticker.info['returnOnAssets']\n",
    "    ROE=ticker.info['returnOnEquity']\n",
    "\n",
    "    prompt = f\"\"\"\n",
    "        You are a fundamental investment analyst. Analyze the financial performance of {t} and give a recommendation: Strong Buy, Buy, Hold, Sell, or Short. \n",
    "        Justify your decision in 4–6 bullet points using financial reasoning. Consider all the financial information shared. Only use the numerical data given. \n",
    "        Do not add assumptions about company operations, reputation, or strategy.\n",
    "\n",
    "\n",
    "        Financials for {t}:\n",
    "\n",
    "        Income Statement:\n",
    "        - Revenue: ${Revenue:,.0f}\n",
    "        - Gross Profit: ${Gross_Profit:,.0f}\n",
    "        - Net Income: ${Net_Income:,.0f}\n",
    "        - EPS (Diluted): {EPS:.2f}\n",
    "\n",
    "        Balance Sheet:\n",
    "        - Total Assets: ${Total_Assets:,.0f}\n",
    "        - Total Liabilities: ${Total_Liabilities:,.0f}\n",
    "        - Shareholders' Equity: ${Shareholders_Equity:,.0f}\n",
    "\n",
    "        Cash Flow:\n",
    "        - Operating Cash Flow: ${Operating_Cash_Flow:,.0f}\n",
    "        - Free Cash Flow: ${Free_Cash_Flow:,.0f}\n",
    "        - Investing Cash Flow: ${Investing_Cash_Flow:,.0f}\n",
    "        - Financing Cash Flow: ${Financing_Cash_Flow:,.0f}\n",
    "\n",
    "        Valuation and Ratios:\n",
    "        - P/E Ratio: {P_E:.2f}\n",
    "        - ROA: {ROA:.2%}\n",
    "        - ROE: {ROE:.2%}\n",
    "\n",
    "        Based on this, what is your investment recommendation? Pick one action candidate.\n",
    "        \"\"\"\n",
    "    return prompt"
   ]
  },
  {
   "cell_type": "code",
   "execution_count": 93,
   "id": "4d20afae",
   "metadata": {},
   "outputs": [
    {
     "name": "stderr",
     "output_type": "stream",
     "text": [
      "Device set to use cuda:0\n"
     ]
    },
    {
     "name": "stdout",
     "output_type": "stream",
     "text": [
      "\n",
      "        You are a fundamental investment analyst. Analyze the financial performance of AAPL and give a recommendation: Strong Buy, Buy, Hold, Sell, or Short. \n",
      "        Justify your decision in 4–6 bullet points using financial reasoning. Consider all the financial information shared. Only use the numerical data given. \n",
      "        Do not add assumptions about company operations, reputation, or strategy.\n",
      "\n",
      "\n",
      "        Financials for AAPL:\n",
      "\n",
      "        Income Statement:\n",
      "        - Revenue: $122,336,000,000\n",
      "        - Gross Profit: $73,115,000,000\n",
      "        - Net Income: $10,948,000,000\n",
      "        - EPS (Diluted): 1.49\n",
      "\n",
      "        Balance Sheet:\n",
      "        - Total Assets: $394,795,000,000\n",
      "        - Total Liabilities: $274,570,000,000\n",
      "        - Shareholders' Equity: $104,372,000,000\n",
      "\n",
      "        Cash Flow:\n",
      "        - Operating Cash Flow: $38,771,000,000\n",
      "        - Free Cash Flow: $18,508,000,000\n",
      "        - Investing Cash Flow: $-17,490,000,000\n",
      "        - Financing Cash Flow: $-24,708,000,000\n",
      "\n",
      "        Valuation and Ratios:\n",
      "        - P/E Ratio: 17.39\n",
      "        - ROA: 4.17%\n",
      "        - ROE: 10.88%\n",
      "\n",
      "        Based on this, what is your investment recommendation? Pick one action candidate.\n",
      "        \n",
      "\n",
      "\n",
      "        Recommendation: Strong Buy\n",
      "        Justification: AAPL's financial performance is impressive. The company generates significant revenue, profit, and cash flow. Its P/E ratio and ROE are high, indicating strong profitability and potential for future growth. The strong cash flow indicates the company has the ability to invest in its business and reward shareholders. The company's balance sheet shows strong financial health with high total assets and moderate liabilities. Given these factors, I believe AAPL is a strong buy. The company's impressive financial performance and strong cash flow position it for future growth and dividend payments. The high P/E ratio indicates the market's confidence in the company's future growth potential. I believe the company's strong fundamentals and growth prospects make it a strong buy.\n"
     ]
    }
   ],
   "source": [
    "prompt=get_financial_info(\"AAPL\")\n",
    "generator = pipeline(\n",
    "    \"text-generation\",\n",
    "    model=model,\n",
    "    tokenizer=tokenizer\n",
    ")\n",
    "\n",
    "outputs = generator(\n",
    "    prompt,\n",
    "    #max_new_tokens=250,         # Reduced for memory efficiency\n",
    "    do_sample=True,\n",
    "    temperature=0.7,\n",
    "    top_p=0.9,\n",
    "    pad_token_id=tokenizer.eos_token_id,\n",
    "    # Memory efficient generation settings\n",
    "    num_beams=1,                # No beam search to save memory\n",
    "    #early_stopping=True,\n",
    "    use_cache=True\n",
    ")\n",
    "\n",
    "generated_text = outputs[0]['generated_text']\n",
    "print(generated_text)"
   ]
  }
 ],
 "metadata": {
  "kernelspec": {
   "display_name": "venv",
   "language": "python",
   "name": "python3"
  },
  "language_info": {
   "codemirror_mode": {
    "name": "ipython",
    "version": 3
   },
   "file_extension": ".py",
   "mimetype": "text/x-python",
   "name": "python",
   "nbconvert_exporter": "python",
   "pygments_lexer": "ipython3",
   "version": "3.12.3"
  }
 },
 "nbformat": 4,
 "nbformat_minor": 5
}
