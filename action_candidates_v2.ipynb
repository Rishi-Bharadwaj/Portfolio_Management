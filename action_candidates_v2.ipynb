{
 "cells": [
  {
   "cell_type": "code",
   "execution_count": 1,
   "id": "5c89636a",
   "metadata": {},
   "outputs": [],
   "source": [
    "import re\n",
    "import numpy as np\n",
    "import pandas as pd\n",
    "import yfinance as yf\n",
    "from transformers import pipeline\n",
    "import pandas as pd\n",
    "import requests\n",
    "import json\n",
    "from datetime import datetime\n",
    "# pd.set_option(\"display.max_rows\", None)\n",
    "# pd.set_option(\"display.max_columns\", None)\n",
    "# pd.set_option(\"display.max_colwidth\", None)\n",
    "from datetime import datetime, timezone\n",
    "import random\n",
    "from datasets import load_dataset\n",
    "import yfinance as yf\n",
    "from transformers import AutoTokenizer, AutoModelForCausalLM,pipeline\n",
    "import torch"
   ]
  },
  {
   "cell_type": "code",
   "execution_count": 2,
   "id": "8da78c2c",
   "metadata": {},
   "outputs": [
    {
     "data": {
      "application/vnd.jupyter.widget-view+json": {
       "model_id": "1c7d0ec637354b59b9e7411778ba1933",
       "version_major": 2,
       "version_minor": 0
      },
      "text/plain": [
       "tokenizer_config.json: 0.00B [00:00, ?B/s]"
      ]
     },
     "metadata": {},
     "output_type": "display_data"
    },
    {
     "data": {
      "application/vnd.jupyter.widget-view+json": {
       "model_id": "250cf2a8834a4bc0909abc660ba1ca75",
       "version_major": 2,
       "version_minor": 0
      },
      "text/plain": [
       "vocab.json: 0.00B [00:00, ?B/s]"
      ]
     },
     "metadata": {},
     "output_type": "display_data"
    },
    {
     "data": {
      "application/vnd.jupyter.widget-view+json": {
       "model_id": "5e7e1d2518f547d6a08e25602030de9b",
       "version_major": 2,
       "version_minor": 0
      },
      "text/plain": [
       "merges.txt: 0.00B [00:00, ?B/s]"
      ]
     },
     "metadata": {},
     "output_type": "display_data"
    },
    {
     "data": {
      "application/vnd.jupyter.widget-view+json": {
       "model_id": "0d03a8e0ae5e4bb99eaab1d8afc9a85c",
       "version_major": 2,
       "version_minor": 0
      },
      "text/plain": [
       "tokenizer.json: 0.00B [00:00, ?B/s]"
      ]
     },
     "metadata": {},
     "output_type": "display_data"
    },
    {
     "data": {
      "application/vnd.jupyter.widget-view+json": {
       "model_id": "586b981bc0b7437798022e83400bcc9e",
       "version_major": 2,
       "version_minor": 0
      },
      "text/plain": [
       "config.json:   0%|          | 0.00/663 [00:00<?, ?B/s]"
      ]
     },
     "metadata": {},
     "output_type": "display_data"
    },
    {
     "data": {
      "application/vnd.jupyter.widget-view+json": {
       "model_id": "2472a22c671f4e1e890b59305cf62a27",
       "version_major": 2,
       "version_minor": 0
      },
      "text/plain": [
       "model.safetensors.index.json: 0.00B [00:00, ?B/s]"
      ]
     },
     "metadata": {},
     "output_type": "display_data"
    },
    {
     "data": {
      "application/vnd.jupyter.widget-view+json": {
       "model_id": "162169dea7e8417ead694834b6cabad5",
       "version_major": 2,
       "version_minor": 0
      },
      "text/plain": [
       "Fetching 8 files:   0%|          | 0/8 [00:00<?, ?it/s]"
      ]
     },
     "metadata": {},
     "output_type": "display_data"
    },
    {
     "data": {
      "application/vnd.jupyter.widget-view+json": {
       "model_id": "fdbe09c843f84f359084bfa8d2dc029b",
       "version_major": 2,
       "version_minor": 0
      },
      "text/plain": [
       "model-00006-of-00008.safetensors:   0%|          | 0.00/4.00G [00:00<?, ?B/s]"
      ]
     },
     "metadata": {},
     "output_type": "display_data"
    },
    {
     "data": {
      "application/vnd.jupyter.widget-view+json": {
       "model_id": "cfaaddc9d6d241e2a6ae6e37ff629217",
       "version_major": 2,
       "version_minor": 0
      },
      "text/plain": [
       "model-00008-of-00008.safetensors:   0%|          | 0.00/1.70G [00:00<?, ?B/s]"
      ]
     },
     "metadata": {},
     "output_type": "display_data"
    },
    {
     "data": {
      "application/vnd.jupyter.widget-view+json": {
       "model_id": "7d7f6c8559ea405990b9787c71063434",
       "version_major": 2,
       "version_minor": 0
      },
      "text/plain": [
       "model-00001-of-00008.safetensors:   0%|          | 0.00/3.89G [00:00<?, ?B/s]"
      ]
     },
     "metadata": {},
     "output_type": "display_data"
    },
    {
     "data": {
      "application/vnd.jupyter.widget-view+json": {
       "model_id": "685d521c623845228b6ffc15730c01d3",
       "version_major": 2,
       "version_minor": 0
      },
      "text/plain": [
       "model-00005-of-00008.safetensors:   0%|          | 0.00/3.98G [00:00<?, ?B/s]"
      ]
     },
     "metadata": {},
     "output_type": "display_data"
    },
    {
     "data": {
      "application/vnd.jupyter.widget-view+json": {
       "model_id": "234c1f3e824b48c4982e6d8d2c3ceca2",
       "version_major": 2,
       "version_minor": 0
      },
      "text/plain": [
       "model-00004-of-00008.safetensors:   0%|          | 0.00/4.00G [00:00<?, ?B/s]"
      ]
     },
     "metadata": {},
     "output_type": "display_data"
    },
    {
     "data": {
      "application/vnd.jupyter.widget-view+json": {
       "model_id": "a9313288eb8c4b0eadf7ad8823961a7d",
       "version_major": 2,
       "version_minor": 0
      },
      "text/plain": [
       "model-00007-of-00008.safetensors:   0%|          | 0.00/4.00G [00:00<?, ?B/s]"
      ]
     },
     "metadata": {},
     "output_type": "display_data"
    },
    {
     "data": {
      "application/vnd.jupyter.widget-view+json": {
       "model_id": "4a715f6cf0b44cabbbe4484cc5f6d790",
       "version_major": 2,
       "version_minor": 0
      },
      "text/plain": [
       "model-00002-of-00008.safetensors:   0%|          | 0.00/4.00G [00:00<?, ?B/s]"
      ]
     },
     "metadata": {},
     "output_type": "display_data"
    },
    {
     "data": {
      "application/vnd.jupyter.widget-view+json": {
       "model_id": "2cffb21e8d06459c8aeaf516d8232cb9",
       "version_major": 2,
       "version_minor": 0
      },
      "text/plain": [
       "model-00003-of-00008.safetensors:   0%|          | 0.00/4.00G [00:00<?, ?B/s]"
      ]
     },
     "metadata": {},
     "output_type": "display_data"
    },
    {
     "data": {
      "application/vnd.jupyter.widget-view+json": {
       "model_id": "5b4d2d6e2c9042d0a79da7ecf59bf6c5",
       "version_major": 2,
       "version_minor": 0
      },
      "text/plain": [
       "Loading checkpoint shards:   0%|          | 0/8 [00:00<?, ?it/s]"
      ]
     },
     "metadata": {},
     "output_type": "display_data"
    },
    {
     "data": {
      "application/vnd.jupyter.widget-view+json": {
       "model_id": "90dfb471d2c242dab7a219666163a10c",
       "version_major": 2,
       "version_minor": 0
      },
      "text/plain": [
       "generation_config.json:   0%|          | 0.00/242 [00:00<?, ?B/s]"
      ]
     },
     "metadata": {},
     "output_type": "display_data"
    }
   ],
   "source": [
    "model_id = \"Qwen/Qwen2.5-14B-Instruct\"\n",
    "torch.cuda.set_device(2)  # Sets default to GPU 0\n",
    "device=torch.device(\"cuda:2\")\n",
    "tokenizer = AutoTokenizer.from_pretrained(model_id, trust_remote_code=True)\n",
    "model = AutoModelForCausalLM.from_pretrained(\n",
    "    model_id,\n",
    "    device_map={\"\": 2},             # auto-distributes across GPUs\n",
    "    torch_dtype=\"auto\",            # picks bf16 or fp16 depending on availability\n",
    ")"
   ]
  },
  {
   "cell_type": "code",
   "execution_count": null,
   "id": "84caa37c",
   "metadata": {},
   "outputs": [],
   "source": []
  },
  {
   "cell_type": "code",
   "execution_count": null,
   "id": "e6cf14f2",
   "metadata": {},
   "outputs": [],
   "source": [
    "class technical_analyst:\n",
    "\n",
    "    def __init__(self, tickers, start_date, end_date):\n",
    "        self.tickers = list(tickers) if isinstance(tickers,str) else tickers\n",
    "        self.start_date = start_date\n",
    "        self.end_date = end_date\n",
    "        self.generate_df()\n",
    "        self.generate_indicators()\n",
    "        self.generate_technical_prompt()\n",
    "        \n",
    "    def generate_df(self):\n",
    "        self.data = yf.download(self.tickers, start=self.start_date, end=self.end_date)\n",
    "\n",
    "    def compute_rsi(self, close, period=14):\n",
    "        delta = close.diff()\n",
    "\n",
    "        gain = delta.clip(lower=0)\n",
    "        loss = -delta.clip(upper=0)\n",
    "\n",
    "        avg_gain = gain.rolling(window=period).mean()\n",
    "        avg_loss = loss.rolling(window=period).mean()\n",
    "\n",
    "        rs = avg_gain / avg_loss\n",
    "        rsi = 100 - (100 / (1 + rs))\n",
    "        return rsi\n",
    "\n",
    "    def compute_obv(self, close, volume):\n",
    "        direction = close.diff().apply(lambda x: 1 if x > 0 else (-1 if x < 0 else 0))\n",
    "        obv = (volume * direction).fillna(0).cumsum()\n",
    "        return obv\n",
    "    \n",
    "    def generate_indicators(self):\n",
    "        self.indicators_processed={}\n",
    "        for ticker in self.tickers:\n",
    "            temp=pd.DataFrame()\n",
    "            temp[\"SMA_5\"] = self.data['Close'][ticker].rolling(5).mean()\n",
    "            temp[\"SMA_15\"] = self.data['Close'][ticker].rolling(15).mean()\n",
    "            temp[\"SMA_50\"] = self.data['Close'][ticker].rolling(50).mean()\n",
    "\n",
    "            temp['EMA_5'] = self.data['Close'][ticker].ewm(span=5).mean()\n",
    "            temp['EMA_10'] = self.data['Close'][ticker].ewm(span=10).mean()\n",
    "            temp['EMA_50'] = self.data['Close'][ticker].ewm(span=50).mean()\n",
    "            temp[\"Date\"] = self.data['Close'][ticker].index\n",
    "            temp[\"RSI\"]=self.compute_rsi(self.data['Close'][ticker])\n",
    "            temp[\"OBV\"]=self.compute_obv(self.data['Close'][ticker], self.data['Volume'][ticker])\n",
    "            self.indicators_processed[ticker]=temp\n",
    "            \n",
    "    def generate_technical_prompt(self):\n",
    "\n",
    "        prompt = f\"\"\" Choose a recommendation for each stock. Respond in a vector of floats between [-1,1], -1 being Short and 1 being Strong Buy. \n",
    "Make these decisions based solely on the technical indicators given below for each stock. Give a one line explanation for each decison.\n",
    " You MUST return the vector at the end in this format [company1,company2,...companyn]\"\"\"\n",
    "        for ticker in self.tickers:\n",
    "            latest=self.indicators_processed[ticker].iloc[-1]\n",
    "            partial_stats= f\"\"\"Technical Indicators for {ticker}:\n",
    "            SMA 5: {latest['SMA_5']:.2f}\n",
    "            SMA 15: {latest['SMA_15']:.2f}\n",
    "            SMA 50: {latest['SMA_50']:.2f}\n",
    "\n",
    "            EMA 5: {latest['EMA_5']:.2f}\n",
    "            EMA 10: {latest['EMA_10']:.2f}\n",
    "            EMA 50: {latest['EMA_50']:.2f}\n",
    "\n",
    "            RSI: {latest['RSI']:.2f}\n",
    "            OBV: {latest['OBV']:,.0f}\n",
    "            /n/n\"\"\"\n",
    "            prompt+=partial_stats\n",
    "        self.prompt=prompt\n",
    "        return self.prompt \n",
    "    \n",
    "    def generate_response(self):\n",
    "        prompt = self.prompt\n",
    "        messages = [\n",
    "            {\"role\": \"system\", \"content\": \"You are an expert technical analyst. Analyze stocks to the best of your ability.\"},\n",
    "            {\"role\": \"user\", \"content\": prompt}\n",
    "        ]\n",
    "        text = tokenizer.apply_chat_template(\n",
    "            messages,\n",
    "            tokenize=False,\n",
    "            add_generation_prompt=True\n",
    "        )\n",
    "        model_inputs = tokenizer([text], return_tensors=\"pt\").to(model.device)\n",
    "\n",
    "        generated_ids = model.generate(\n",
    "            **model_inputs,\n",
    "            max_new_tokens=512\n",
    "        )\n",
    "        generated_ids = [\n",
    "            output_ids[len(input_ids):] for input_ids, output_ids in zip(model_inputs.input_ids, generated_ids)\n",
    "        ]\n",
    "\n",
    "        self.response = tokenizer.batch_decode(generated_ids, skip_special_tokens=True)[0]\n",
    "        return self.response\n"
   ]
  },
  {
   "cell_type": "code",
   "execution_count": 6,
   "id": "30b1df91",
   "metadata": {},
   "outputs": [
    {
     "name": "stderr",
     "output_type": "stream",
     "text": [
      "/tmp/ipykernel_2956667/2642084346.py:12: FutureWarning: YF.download() has changed argument auto_adjust default to True\n",
      "  self.data = yf.download(self.tickers, start=self.start_date, end=self.end_date)\n",
      "[*********************100%***********************]  2 of 2 completed\n"
     ]
    },
    {
     "name": "stdout",
     "output_type": "stream",
     "text": [
      "\n",
      "You are a technical investment analyst. Analyze the recent technical performance of the following stocks and give an investment recommendation.\n",
      "Your task:\n",
      "Choose a recommendation for each stock. Respond in a vector of floats between [-1,1], -1 being short and 1 being Strong buy. \n",
      "Make these decisions based solely on the technical indicators given below for each stock. Give a one line explanation for each decison.\n",
      "Technical Indicators for AAPL:\n",
      "            SMA 5: 130.56\n",
      "            SMA 15: 125.99\n",
      "            SMA 50: 117.89\n",
      "\n",
      "            EMA 5: 129.75\n",
      "            EMA 10: 128.20\n",
      "            EMA 50: 119.89\n",
      "\n",
      "            RSI: 67.88\n",
      "            OBV: 1,242,778,600\n",
      "            /n/nTechnical Indicators for NVDA:\n",
      "            SMA 5: 12.97\n",
      "            SMA 15: 13.11\n",
      "            SMA 50: 13.24\n",
      "\n",
      "            EMA 5: 13.02\n",
      "            EMA 10: 13.06\n",
      "            EMA 50: 13.13\n",
      "\n",
      "            RSI: 52.75\n",
      "            OBV: 16,407,164,000\n",
      "            /n/n\n",
      "[aapl_recommendation, nvda_recommendation] = [0.8, 0.2]\n",
      "\n",
      "Explanation for AAPL: The shorter-term moving averages (SMA/EMA) are above the longer-term ones, indicating upward momentum, and the RSI is above 50 but not overbought yet, suggesting a strong buy.\n",
      "\n",
      "Explanation for NVDA: The moving averages are closely aligned and the RSI is neutral, indicating a stable but not strongly bullish trend, hence a more cautious (hold) stance.\n"
     ]
    }
   ],
   "source": [
    "techni=technical_analyst([\"AAPL\",\"NVDA\"],start_date=\"2020-01-01\", end_date=\"2021-01-01\")\n",
    "print(techni.prompt)\n",
    "response=techni.generate_response()\n",
    "print(response)"
   ]
  },
  {
   "cell_type": "code",
   "execution_count": null,
   "id": "4b5dbcab",
   "metadata": {},
   "outputs": [],
   "source": [
    "class fundamental_analyst:\n",
    "\n",
    "    def __init__(self, tickers, start_date, end_date):\n",
    "        self.tickers = list(tickers) if isinstance(tickers,str) else tickers\n",
    "        self.start_date = start_date\n",
    "        self.end_date = end_date\n",
    "\n",
    "        start_year = datetime.strptime(start_date, \"%Y-%m-%d\").year\n",
    "        end_year = datetime.strptime(end_date, \"%Y-%m-%d\").year\n",
    "        self.years = list(range(start_year, end_year + 1))\n",
    "        data_processed={}\n",
    "        for ticker in self.tickers:\n",
    "            metric_data, gaap_data=self.get_data(ticker)\n",
    "            data_processed[ticker]=self.get_financial_info(metric_data,gaap_data)\n",
    "        self.data_processed=data_processed\n",
    "        self.generate_prompt()\n",
    "        \n",
    "    def get_data(self,ticker):\n",
    "        api_key = \"d1l719pr01qt4thec1pgd1l719pr01qt4thec1q0\"\n",
    "        url = f\"https://finnhub.io/api/v1/stock/metric?symbol={ticker}&token={api_key}\"\n",
    "        response = requests.get(url)\n",
    "        metric_data=response.json()\n",
    "        url = f\"https://finnhub.io/api/v1/stock/financials-reported?symbol={ticker}&token={api_key}\"\n",
    "        response = requests.get(url)\n",
    "        gaap_data=response.json()\n",
    "        return metric_data,gaap_data\n",
    "\n",
    "    def find_us_gaap_entry(self, gaap_data, parameter, year):\n",
    "        for dic in gaap_data['data']:\n",
    "            if dic.get('year') == year:\n",
    "                for section in ['ic', 'bs', 'cf']:  # income statement, balance sheet, cash flow\n",
    "                    for entry in dic.get('report', {}).get(section, []):\n",
    "                        if parameter in entry.values():\n",
    "                            return entry.get('value')\n",
    "        return None\n",
    "\n",
    "    def find_metric_by_year(self,metric_data, parameter, year):\n",
    "        series = metric_data.get('series', {}).get('annual', {}).get(parameter, [])\n",
    "        for item in series:\n",
    "            if item.get('period', '').startswith(str(year)):\n",
    "                return item.get('v')  # assuming value is under 'v'\n",
    "        return None\n",
    "\n",
    "    def get_financial_info(self,metric_data,gaap_data):\n",
    "        financials = {\n",
    "        \"EPS\": [],\n",
    "        \"Net_Income\": [],\n",
    "        \"Gross_Profit\": [],\n",
    "        \"Revenue\": [],\n",
    "        \"Total_Assets\": [],\n",
    "        \"Total_Liabilities\": [],\n",
    "        \"Shareholders_Equity\": [],\n",
    "        \"Operating_Cash_Flow\": [],\n",
    "        \"Investing_Cash_Flow\": [],\n",
    "        \"Financing_Cash_Flow\": [],\n",
    "        \"P_E\": [],\n",
    "        \"ROA\": [],\n",
    "        \"ROE\": []\n",
    "    }\n",
    "\n",
    "        for year in self.years:\n",
    "            financials[\"EPS\"].append(self.find_us_gaap_entry(gaap_data, 'us-gaap_EarningsPerShareDiluted', year))\n",
    "            financials[\"Net_Income\"].append(self.find_us_gaap_entry(gaap_data, 'us-gaap_NetIncomeLoss', year))\n",
    "            financials[\"Gross_Profit\"].append(self.find_us_gaap_entry(gaap_data, 'us-gaap_GrossProfit', year))\n",
    "            financials[\"Revenue\"].append(self.find_us_gaap_entry(gaap_data, 'us-gaap_RevenueFromContractWithCustomerExcludingAssessedTax', year))\n",
    "            financials[\"Total_Assets\"].append(self.find_us_gaap_entry(gaap_data, 'us-gaap_Assets', year))\n",
    "            financials[\"Total_Liabilities\"].append(self.find_us_gaap_entry(gaap_data, 'us-gaap_Liabilities', year))\n",
    "            financials[\"Shareholders_Equity\"].append(self.find_us_gaap_entry(gaap_data, 'us-gaap_StockholdersEquity', year))\n",
    "            financials[\"Operating_Cash_Flow\"].append(self.find_us_gaap_entry(gaap_data, 'us-gaap_NetCashProvidedByUsedInOperatingActivities', year))\n",
    "            financials[\"Investing_Cash_Flow\"].append(self.find_us_gaap_entry(gaap_data, 'us-gaap_NetCashProvidedByUsedInInvestingActivities', year))\n",
    "            financials[\"Financing_Cash_Flow\"].append(self.find_us_gaap_entry(gaap_data, 'us-gaap_NetCashProvidedByUsedInFinancingActivities', year))\n",
    "            financials[\"P_E\"].append(self.find_metric_by_year(metric_data, 'pe', year))\n",
    "            financials[\"ROA\"].append(self.find_metric_by_year(metric_data, 'roa', year))\n",
    "            financials[\"ROE\"].append(self.find_metric_by_year(metric_data, 'roe', year))\n",
    "\n",
    "        return financials\n",
    "\n",
    "    def generate_prompt(self):\n",
    "        prompt = f\"\"\" Choose a recommendation for each stock. Respond in a vector of floats between [-1,1], -1 being Short and 1 being Strong Buy. \n",
    "Make these decisions based solely on the fundamental indicators given below for each stock. Give a one line explanation for each decison.\n",
    " You MUST return the vector at the end in this format [company1,company2,...companyn]\"\"\"\n",
    "        for ticker in self.tickers:\n",
    "            financials=self.data_processed[ticker]\n",
    "            partial_stats=f\"\"\"Financials for {ticker}:\\n\"\"\"\n",
    "            for i, year in enumerate(self.years):\n",
    "                partial_stats += f\"\"\"\n",
    "                Year: {year}\n",
    "                Income Statement:\n",
    "                Revenue: ${financials[\"Revenue\"][i]:,.0f}\n",
    "                Gross Profit: ${financials[\"Gross_Profit\"][i]:,.0f}\n",
    "                Net Income: ${financials[\"Net_Income\"][i]:,.0f}\n",
    "                EPS (Diluted): {financials[\"EPS\"][i]:.2f}\n",
    "\n",
    "                Balance Sheet:\n",
    "                Total Assets: ${financials[\"Total_Assets\"][i]:,.0f}\n",
    "                Total Liabilities: ${financials[\"Total_Liabilities\"][i]:,.0f}\n",
    "                Shareholders' Equity: ${financials[\"Shareholders_Equity\"][i]:,.0f}\n",
    "\n",
    "                Cash Flow:\n",
    "                Operating Cash Flow: ${financials[\"Operating_Cash_Flow\"][i]:,.0f}\n",
    "                Investing Cash Flow: ${financials[\"Investing_Cash_Flow\"][i]:,.0f}\n",
    "                Financing Cash Flow: ${financials[\"Financing_Cash_Flow\"][i]:,.0f}\n",
    "\n",
    "                Valuation and Ratios:\n",
    "                P/E Ratio: {financials[\"P_E\"][i]:.2f}\n",
    "                ROA: {financials[\"ROA\"][i]:.2%}\n",
    "                ROE: {financials[\"ROE\"][i]:.2%}\n",
    "                \"\"\"\n",
    "            prompt+=partial_stats\n",
    "        prompt += \"\\nBased on this, what is your investment recommendation? Pick one action candidate.\"\n",
    "        self.prompt = prompt\n",
    "        return prompt\n",
    "\n",
    "    def generate_response(self):\n",
    "        prompt = self.prompt\n",
    "        messages = [\n",
    "            {\"role\": \"system\", \"content\": \"You are an expert fundamental analyst. Analyze stocks to the best of your ability.\"},\n",
    "            {\"role\": \"user\", \"content\": prompt}\n",
    "        ]\n",
    "        text = tokenizer.apply_chat_template(\n",
    "            messages,\n",
    "            tokenize=False,\n",
    "            add_generation_prompt=True\n",
    "        )\n",
    "        model_inputs = tokenizer([text], return_tensors=\"pt\").to(model.device)\n",
    "\n",
    "        generated_ids = model.generate(\n",
    "            **model_inputs,\n",
    "            max_new_tokens=512\n",
    "        )\n",
    "        generated_ids = [\n",
    "            output_ids[len(input_ids):] for input_ids, output_ids in zip(model_inputs.input_ids, generated_ids)\n",
    "        ]\n",
    "\n",
    "        self.response = tokenizer.batch_decode(generated_ids, skip_special_tokens=True)[0]\n",
    "        return self.response"
   ]
  },
  {
   "cell_type": "code",
   "execution_count": 12,
   "id": "899bd9b9",
   "metadata": {},
   "outputs": [
    {
     "name": "stdout",
     "output_type": "stream",
     "text": [
      " Choose a recommendation for each stock. Respond in a vector of floats between [-1,1], -1 being short and 1 being Strong buy. \n",
      "Make these decisions based solely on the fundamental indicators given below for each stock. Give a one line explanation for each decison. You Must return the vector at the end in this format [company1,company2,...comapnyn]Financials for AAPL:\n",
      "\n",
      "                Year: 2020\n",
      "                Income Statement:\n",
      "                Revenue: $274,515,000,000\n",
      "                Gross Profit: $104,956,000,000\n",
      "                Net Income: $57,411,000,000\n",
      "                EPS (Diluted): 3.28\n",
      "\n",
      "                Balance Sheet:\n",
      "                Total Assets: $323,888,000,000\n",
      "                Total Liabilities: $258,549,000,000\n",
      "                Shareholders' Equity: $65,339,000,000\n",
      "\n",
      "                Cash Flow:\n",
      "                Operating Cash Flow: $80,674,000,000\n",
      "                Investing Cash Flow: $-4,289,000,000\n",
      "                Financing Cash Flow: $-86,820,000,000\n",
      "\n",
      "                Valuation and Ratios:\n",
      "                P/E Ratio: 34.25\n",
      "                ROA: 17.73%\n",
      "                ROE: 87.87%\n",
      "                \n",
      "                Year: 2021\n",
      "                Income Statement:\n",
      "                Revenue: $365,817,000,000\n",
      "                Gross Profit: $152,836,000,000\n",
      "                Net Income: $94,680,000,000\n",
      "                EPS (Diluted): 5.61\n",
      "\n",
      "                Balance Sheet:\n",
      "                Total Assets: $351,002,000,000\n",
      "                Total Liabilities: $287,912,000,000\n",
      "                Shareholders' Equity: $63,090,000,000\n",
      "\n",
      "                Cash Flow:\n",
      "                Operating Cash Flow: $104,038,000,000\n",
      "                Investing Cash Flow: $-14,545,000,000\n",
      "                Financing Cash Flow: $-93,353,000,000\n",
      "\n",
      "                Valuation and Ratios:\n",
      "                P/E Ratio: 25.38\n",
      "                ROA: 26.97%\n",
      "                ROE: 150.07%\n",
      "                Financials for NVDA:\n",
      "\n",
      "                Year: 2020\n",
      "                Income Statement:\n",
      "                Revenue: $10,918,000,000\n",
      "                Gross Profit: $6,768,000,000\n",
      "                Net Income: $2,796,000,000\n",
      "                EPS (Diluted): 4.52\n",
      "\n",
      "                Balance Sheet:\n",
      "                Total Assets: $17,315,000,000\n",
      "                Total Liabilities: $5,111,000,000\n",
      "                Shareholders' Equity: $12,204,000,000\n",
      "\n",
      "                Cash Flow:\n",
      "                Operating Cash Flow: $4,761,000,000\n",
      "                Investing Cash Flow: $6,145,000,000\n",
      "                Financing Cash Flow: $-792,000,000\n",
      "\n",
      "                Valuation and Ratios:\n",
      "                P/E Ratio: 52.58\n",
      "                ROA: 16.15%\n",
      "                ROE: 22.91%\n",
      "                \n",
      "                Year: 2021\n",
      "                Income Statement:\n",
      "                Revenue: $16,675,000,000\n",
      "                Gross Profit: $10,396,000,000\n",
      "                Net Income: $4,332,000,000\n",
      "                EPS (Diluted): 6.90\n",
      "\n",
      "                Balance Sheet:\n",
      "                Total Assets: $28,791,000,000\n",
      "                Total Liabilities: $11,898,000,000\n",
      "                Shareholders' Equity: $16,893,000,000\n",
      "\n",
      "                Cash Flow:\n",
      "                Operating Cash Flow: $5,822,000,000\n",
      "                Investing Cash Flow: $-19,675,000,000\n",
      "                Financing Cash Flow: $3,804,000,000\n",
      "\n",
      "                Valuation and Ratios:\n",
      "                P/E Ratio: 75.66\n",
      "                ROA: 15.05%\n",
      "                ROE: 25.64%\n",
      "                \n",
      "Based on this, what is your investment recommendation? Pick one action candidate.\n",
      "Based on the provided financial data, here are the recommendations for AAPL and NVDA:\n",
      "\n",
      "- **AAPL**: The company shows strong revenue growth, robust net income, high ROE, and consistent cash flow, but its P/E ratio is relatively high. Considering its fundamentals, it appears overvalued slightly.\n",
      "- **NVDA**: While NVDA has impressive revenue and net income growth, its high P/E ratio suggests it might be overvalued, and its negative investing cash flow raises concerns about capital expenditure.\n",
      "\n",
      "Recommendation vector: [0.6, 0.2]\n",
      "\n",
      "Explanation:\n",
      "- **AAPL**: Strong fundamentals but potentially overvalued due to high P/E ratio -> Moderately Buy (0.6)\n",
      "- **NVDA**: Rapid growth but high valuation risk -> Hold (0.2)\n",
      "\n",
      "Final Vector: [0.6, 0.2]\n"
     ]
    }
   ],
   "source": [
    "techni=fundamental_analyst([\"AAPL\",\"NVDA\"],start_date=\"2020-01-01\", end_date=\"2021-01-01\")\n",
    "print(techni.prompt)\n",
    "response=techni.generate_response()\n",
    "print(response)"
   ]
  },
  {
   "cell_type": "code",
   "execution_count": null,
   "id": "bcabdd97",
   "metadata": {},
   "outputs": [],
   "source": [
    "class news_analyst:\n",
    "\n",
    "    def __init__ (self,tickers, companies, start_date, end_date):\n",
    "        self.tickers=[tickers] if isinstance(tickers,str) else tickers\n",
    "        self.companies=[companies] if isinstance(companies,str) else companies\n",
    "        self.start_date=start_date\n",
    "        self.end_date=end_date\n",
    "        news_collection={}\n",
    "        for i,ticker in enumerate(self.tickers):\n",
    "            news_collection[ticker]=self.get_news_articles(ticker,companies[i])\n",
    "        self.news_collection=news_collection\n",
    "        self.generate_news_prompt()\n",
    "        \n",
    "    def get_news_articles(self,ticker,company):\n",
    "        file_path = f\"/home/f20222001/test-venv/Portfolio/sp500_news/sp500_news/{ticker}.jsonl\"\n",
    "        start_dt = datetime.strptime(self.start_date, \"%Y-%m-%d\")\n",
    "        end_dt   = datetime.strptime(self.end_date, \"%Y-%m-%d\")\n",
    "\n",
    "        want = 10\n",
    "        titles, seen = [], set()\n",
    "\n",
    "        # 1) Local JSONL (assumed to exist)\n",
    "        with open(file_path, \"r\") as f:\n",
    "            for line in f:\n",
    "                obj = json.loads(line)\n",
    "                title = (obj.get(\"Article_title\") or \"\").strip()\n",
    "                if not title:\n",
    "                    continue\n",
    "                article_dt = datetime.strptime(obj[\"Date\"], \"%Y-%m-%d\")\n",
    "                if start_dt <= article_dt <= end_dt and company.lower() in title.lower():\n",
    "                    if title not in seen:\n",
    "                        seen.add(title)\n",
    "                        titles.append(title)\n",
    "\n",
    "        # 2) If fewer than 10, top up with Finnhub for the same window\n",
    "        if len(titles) < want:\n",
    "            url = (\n",
    "                \"https://finnhub.io/api/v1/company-news\"\n",
    "                f\"?symbol={ticker}&from={self.start_date}&to={self.end_date}\"\n",
    "                f\"&token=d1l719pr01qt4thec1pgd1l719pr01qt4thec1q0\"\n",
    "            )\n",
    "            r = requests.get(url, timeout=10)\n",
    "            if r.ok:\n",
    "                for item in (r.json() or []):\n",
    "                    title = (item.get(\"headline\") or \"\").strip()\n",
    "                    if not title or title in seen:\n",
    "                        continue\n",
    "                    ts = item.get(\"datetime\")\n",
    "                    if isinstance(ts, (int, float)):\n",
    "                        art_date = datetime.fromtimestamp(ts, tz=timezone.utc).date()\n",
    "                        if start_dt.date() <= art_date <= end_dt.date() and company.lower() in title.lower():\n",
    "                            seen.add(title)\n",
    "                            titles.append(title)\n",
    "                            if len(titles) >= want:\n",
    "                                break\n",
    "\n",
    "        # 3) Cap at 10 (randomize if overshoot)\n",
    "        if len(titles) > want:\n",
    "            titles = random.sample(titles, want)\n",
    "\n",
    "        selected_news = titles\n",
    "        return selected_news\n",
    "    \n",
    "    def generate_news_prompt(self):\n",
    "        prompt = f\"\"\" Choose a recommendation for each stock. Respond in a vector of floats between [-1,1], -1 being Short and 1 being Strong Buy. \n",
    "Make these decisions based solely on the news headlines and sentiment given below for each stock. Give a one line explanation for each decison.\n",
    "You MUST return the vector at the end in this format [company1,company2,...companyn]\n",
    "\n",
    "Headlines:\n",
    "\"\"\"\n",
    "        for ticker in self.tickers:\n",
    "            prompt+=f\"\"\" News for {ticker}\\n\"\"\"\n",
    "            for i, item in enumerate(self.news_collection[ticker]):\n",
    "                prompt+=item\n",
    "                prompt+='\\n'\n",
    "        prompt+=\"Based on this, what is your investment recommendation? Pick one action candidate.\"\n",
    "        self.prompt=prompt\n",
    "        return self.prompt\n",
    "    \n",
    "    def generate_response(self):\n",
    "        prompt = self.prompt\n",
    "        messages = [\n",
    "            {\"role\": \"system\", \"content\": \"You are an expert news and sentiment analyst. Analyze stocks to the best of your ability.\"},\n",
    "            {\"role\": \"user\", \"content\": prompt}\n",
    "        ]\n",
    "        text = tokenizer.apply_chat_template(\n",
    "            messages,\n",
    "            tokenize=False,\n",
    "            add_generation_prompt=True\n",
    "        )\n",
    "        model_inputs = tokenizer([text], return_tensors=\"pt\").to(model.device)\n",
    "\n",
    "        generated_ids = model.generate(\n",
    "            **model_inputs,\n",
    "            max_new_tokens=512\n",
    "        )\n",
    "        generated_ids = [\n",
    "            output_ids[len(input_ids):] for input_ids, output_ids in zip(model_inputs.input_ids, generated_ids)\n",
    "        ]\n",
    "\n",
    "        self.response = tokenizer.batch_decode(generated_ids, skip_special_tokens=True)[0]\n",
    "        return self.response"
   ]
  },
  {
   "cell_type": "code",
   "execution_count": 15,
   "id": "ae40e60a",
   "metadata": {},
   "outputs": [
    {
     "name": "stdout",
     "output_type": "stream",
     "text": [
      " Choose a recommendation for each stock. Respond in a vector of floats between [-1,1], -1 being Short and 1 being Strong Buy. \n",
      "Make these decisions based solely on the news headlines and sentiment given below for each stock. Give a one line explanation for each decison.\n",
      " You MUST return the vector at the end in this format [company1,company2,...companyn]\n",
      "\n",
      "Headlines:\n",
      " News for AAPL\n",
      "Apple supplier Foxconn says working to resume China production as soon as possible\n",
      "The Zacks Analyst Blog Highlights HP, Dell, Apple and Lenovo\n",
      "Apple sends invites for Sept 7 event, analysts expect new iPhones\n",
      "Apple Is Using Streaming to Unlock Another Growing Business\n",
      "If You Invested $10,000 In Apple for Its IPO In 1980, Here's How Much You'd Have Now\n",
      "Will the New M2 MacBook Air Be Enough to Kickstart Apple?\n",
      "Apple Stock: Why Now Is the Time to Buy\n",
      "Should Investors Buy the Dip on Apple Stock?\n",
      "Apple Q4 22 Earnings Conference Call AT 5:00 PM ET\n",
      "6 Reasons to Buy Apple Stock Now and Never Sell\n",
      " News for NVDA\n",
      "Why Nvidia Could Crush AMD Once Again in 2022\n",
      "Siemens and Nvidia collaborate to expand digital services\n",
      "Nvidia forecasts second-quarter revenue below estimates\n",
      "Chip wreck: Nvidia sinks sector after U.S. restricts China sales\n",
      "Why Nvidia, Amazon, and Apple Stocks Slumped Friday\n",
      "Will Nvidia Be a Trillion-Dollar Stock by 2030?\n",
      "Should You Buy Nvidia Stock in 2022?\n",
      "Why Nvidia Stock Popped, Then Dropped on Wednesday\n",
      "Why Shares of Micron Technology, Nvidia, and AMD Fell Today\n",
      "Excited About Oracle Cloud? Not So Fast -- The Story Is Really About Nvidia\n",
      "Based on this, what is your investment recommendation? Pick one action candidate.\n",
      "[AAPL, NVDA] = [0.8, -0.3]\n",
      "\n",
      "**Explanation:**\n",
      "- **AAPL:** Positive sentiment with multiple headlines indicating upcoming product launches and strong financial performance, suggesting a buy.\n",
      "- **NVDA:** Mixed sentiment with some positive collaborations but also negative earnings forecasts and regulatory issues, leading to a neutral to slightly short recommendation.\n"
     ]
    }
   ],
   "source": [
    "techni=news_analyst([\"AAPL\",\"NVDA\"],companies=[\"Apple\",\"Nvidia\"],start_date=\"2022-01-01\", end_date=\"2023-01-01\")\n",
    "print(techni.prompt)\n",
    "response=techni.generate_response()\n",
    "print(response)"
   ]
  }
 ],
 "metadata": {
  "kernelspec": {
   "display_name": "venv",
   "language": "python",
   "name": "python3"
  },
  "language_info": {
   "codemirror_mode": {
    "name": "ipython",
    "version": 3
   },
   "file_extension": ".py",
   "mimetype": "text/x-python",
   "name": "python",
   "nbconvert_exporter": "python",
   "pygments_lexer": "ipython3",
   "version": "3.12.3"
  }
 },
 "nbformat": 4,
 "nbformat_minor": 5
}
